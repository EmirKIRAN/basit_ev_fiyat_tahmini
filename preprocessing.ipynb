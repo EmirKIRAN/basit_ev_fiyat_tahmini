{
 "cells": [
  {
   "cell_type": "code",
   "execution_count": 1,
   "metadata": {},
   "outputs": [],
   "source": [
    "import pandas as pd\n",
    "import pandas as pd\n",
    "import matplotlib.pyplot as plot\n",
    "import seaborn as sns"
   ]
  },
  {
   "cell_type": "code",
   "execution_count": 2,
   "metadata": {},
   "outputs": [],
   "source": [
    "house_data = pd.read_excel('evBilgileri.xlsx')"
   ]
  },
  {
   "cell_type": "markdown",
   "metadata": {},
   "source": [
    "### Veri Setinin İncelenmesi"
   ]
  },
  {
   "cell_type": "code",
   "execution_count": 3,
   "metadata": {},
   "outputs": [
    {
     "data": {
      "text/html": [
       "<div>\n",
       "<style scoped>\n",
       "    .dataframe tbody tr th:only-of-type {\n",
       "        vertical-align: middle;\n",
       "    }\n",
       "\n",
       "    .dataframe tbody tr th {\n",
       "        vertical-align: top;\n",
       "    }\n",
       "\n",
       "    .dataframe thead th {\n",
       "        text-align: right;\n",
       "    }\n",
       "</style>\n",
       "<table border=\"1\" class=\"dataframe\">\n",
       "  <thead>\n",
       "    <tr style=\"text-align: right;\">\n",
       "      <th></th>\n",
       "      <th>Unnamed: 0</th>\n",
       "      <th>fiyat</th>\n",
       "      <th>ilan_no</th>\n",
       "      <th>olusturma_tarihi</th>\n",
       "      <th>guncelleme_tarihi</th>\n",
       "      <th>tur</th>\n",
       "      <th>kategori</th>\n",
       "      <th>yapi_tip</th>\n",
       "      <th>net_m2</th>\n",
       "      <th>brut_m2</th>\n",
       "      <th>...</th>\n",
       "      <th>banyo_sayi</th>\n",
       "      <th>WC_sayi</th>\n",
       "      <th>site_ici_mi</th>\n",
       "      <th>esya_durum</th>\n",
       "      <th>kullanım_durum</th>\n",
       "      <th>fiyat_durum</th>\n",
       "      <th>yapi_durum</th>\n",
       "      <th>krediye_uygunluk</th>\n",
       "      <th>yatirima_uygunluk</th>\n",
       "      <th>takas</th>\n",
       "    </tr>\n",
       "  </thead>\n",
       "  <tbody>\n",
       "    <tr>\n",
       "      <th>0</th>\n",
       "      <td>0</td>\n",
       "      <td>380,000TL</td>\n",
       "      <td>8898190</td>\n",
       "      <td>07 Kasım 2020</td>\n",
       "      <td>07 Kasım 2020</td>\n",
       "      <td>Konut</td>\n",
       "      <td>Satılık</td>\n",
       "      <td>Betonarme</td>\n",
       "      <td>140 m2</td>\n",
       "      <td>141 m2</td>\n",
       "      <td>...</td>\n",
       "      <td>1</td>\n",
       "      <td>2</td>\n",
       "      <td>Hayır</td>\n",
       "      <td>Boş</td>\n",
       "      <td>Boş</td>\n",
       "      <td>Genel Fiyat</td>\n",
       "      <td>Sıfır</td>\n",
       "      <td>Krediye Uygun</td>\n",
       "      <td>Yatırıma Uygun</td>\n",
       "      <td>Yok</td>\n",
       "    </tr>\n",
       "    <tr>\n",
       "      <th>1</th>\n",
       "      <td>1</td>\n",
       "      <td>315,000TL</td>\n",
       "      <td>8898116</td>\n",
       "      <td>07 Kasım 2020</td>\n",
       "      <td>07 Kasım 2020</td>\n",
       "      <td>Konut</td>\n",
       "      <td>Satılık</td>\n",
       "      <td>Betonarme</td>\n",
       "      <td>100 m2</td>\n",
       "      <td>101 m2</td>\n",
       "      <td>...</td>\n",
       "      <td>1</td>\n",
       "      <td>2</td>\n",
       "      <td>Hayır</td>\n",
       "      <td>Boş</td>\n",
       "      <td>Boş</td>\n",
       "      <td>Genel Fiyat</td>\n",
       "      <td>Sıfır</td>\n",
       "      <td>Krediye Uygun</td>\n",
       "      <td>Yatırıma Uygun</td>\n",
       "      <td>Yok</td>\n",
       "    </tr>\n",
       "    <tr>\n",
       "      <th>2</th>\n",
       "      <td>2</td>\n",
       "      <td>190,000TL</td>\n",
       "      <td>8884932</td>\n",
       "      <td>04 Kasım 2020</td>\n",
       "      <td>04 Kasım 2020</td>\n",
       "      <td>Konut</td>\n",
       "      <td>Satılık</td>\n",
       "      <td>Belirtilmemiş</td>\n",
       "      <td>110 m2</td>\n",
       "      <td>130 m2</td>\n",
       "      <td>...</td>\n",
       "      <td>1</td>\n",
       "      <td>1</td>\n",
       "      <td>Hayır</td>\n",
       "      <td>Boş</td>\n",
       "      <td>Boş</td>\n",
       "      <td>Genel Fiyat</td>\n",
       "      <td>Sıfır</td>\n",
       "      <td>Krediye Uygun</td>\n",
       "      <td>Yatırıma Uygun</td>\n",
       "      <td>Var</td>\n",
       "    </tr>\n",
       "    <tr>\n",
       "      <th>3</th>\n",
       "      <td>3</td>\n",
       "      <td>555,000TL</td>\n",
       "      <td>8877290</td>\n",
       "      <td>02 Kasım 2020</td>\n",
       "      <td>06 Kasım 2020</td>\n",
       "      <td>Konut</td>\n",
       "      <td>Satılık</td>\n",
       "      <td>Betonarme</td>\n",
       "      <td>175 m2</td>\n",
       "      <td>180 m2</td>\n",
       "      <td>...</td>\n",
       "      <td>3</td>\n",
       "      <td>Belirtilmemiş</td>\n",
       "      <td>Hayır</td>\n",
       "      <td>Belirtilmemiş</td>\n",
       "      <td>Mal Sahibi Oturuyor</td>\n",
       "      <td>Genel Fiyat</td>\n",
       "      <td>İkinci El</td>\n",
       "      <td>Krediye Uygun</td>\n",
       "      <td>Bilinmiyor</td>\n",
       "      <td>Yok</td>\n",
       "    </tr>\n",
       "    <tr>\n",
       "      <th>4</th>\n",
       "      <td>4</td>\n",
       "      <td>3,000,000TL</td>\n",
       "      <td>8877281</td>\n",
       "      <td>02 Kasım 2020</td>\n",
       "      <td>06 Kasım 2020</td>\n",
       "      <td>Konut</td>\n",
       "      <td>Satılık</td>\n",
       "      <td>Betonarme</td>\n",
       "      <td>270 m2</td>\n",
       "      <td>469 m2</td>\n",
       "      <td>...</td>\n",
       "      <td>3</td>\n",
       "      <td>Belirtilmemiş</td>\n",
       "      <td>Hayır</td>\n",
       "      <td>Boş</td>\n",
       "      <td>Mal Sahibi Oturuyor</td>\n",
       "      <td>Genel Fiyat</td>\n",
       "      <td>İkinci El</td>\n",
       "      <td>Krediye Uygun</td>\n",
       "      <td>Bilinmiyor</td>\n",
       "      <td>Yok</td>\n",
       "    </tr>\n",
       "    <tr>\n",
       "      <th>5</th>\n",
       "      <td>5</td>\n",
       "      <td>290,000TL</td>\n",
       "      <td>8871532</td>\n",
       "      <td>31 Ekim 2020</td>\n",
       "      <td>31 Ekim 2020</td>\n",
       "      <td>Konut</td>\n",
       "      <td>Satılık</td>\n",
       "      <td>Belirtilmemiş</td>\n",
       "      <td>95 m2</td>\n",
       "      <td>110 m2</td>\n",
       "      <td>...</td>\n",
       "      <td>1</td>\n",
       "      <td>1</td>\n",
       "      <td>Hayır</td>\n",
       "      <td>Boş</td>\n",
       "      <td>Boş</td>\n",
       "      <td>Genel Fiyat</td>\n",
       "      <td>Sıfır</td>\n",
       "      <td>Krediye Uygun</td>\n",
       "      <td>Yatırıma Uygun</td>\n",
       "      <td>Yok</td>\n",
       "    </tr>\n",
       "    <tr>\n",
       "      <th>6</th>\n",
       "      <td>6</td>\n",
       "      <td>250,000TL</td>\n",
       "      <td>8845619</td>\n",
       "      <td>23 Ekim 2020</td>\n",
       "      <td>09 Kasım 2020</td>\n",
       "      <td>Konut</td>\n",
       "      <td>Satılık</td>\n",
       "      <td>Betonarme</td>\n",
       "      <td>95 m2</td>\n",
       "      <td>120 m2</td>\n",
       "      <td>...</td>\n",
       "      <td>1</td>\n",
       "      <td>1</td>\n",
       "      <td>Hayır</td>\n",
       "      <td>Belirtilmemiş</td>\n",
       "      <td>Kiracı Oturuyor</td>\n",
       "      <td>Genel Fiyat</td>\n",
       "      <td>İkinci El</td>\n",
       "      <td>Krediye Uygun</td>\n",
       "      <td>Yatırıma Uygun</td>\n",
       "      <td>Yok</td>\n",
       "    </tr>\n",
       "    <tr>\n",
       "      <th>7</th>\n",
       "      <td>7</td>\n",
       "      <td>175,000TL</td>\n",
       "      <td>8782715</td>\n",
       "      <td>07 Ekim 2020</td>\n",
       "      <td>09 Ekim 2020</td>\n",
       "      <td>Konut</td>\n",
       "      <td>Satılık</td>\n",
       "      <td>Betonarme</td>\n",
       "      <td>68 m2</td>\n",
       "      <td>75 m2</td>\n",
       "      <td>...</td>\n",
       "      <td>1</td>\n",
       "      <td>1</td>\n",
       "      <td>Hayır</td>\n",
       "      <td>Boş</td>\n",
       "      <td>Boş</td>\n",
       "      <td>Genel Fiyat</td>\n",
       "      <td>İkinci El</td>\n",
       "      <td>Krediye Uygun</td>\n",
       "      <td>Yatırıma Uygun</td>\n",
       "      <td>Yok</td>\n",
       "    </tr>\n",
       "    <tr>\n",
       "      <th>8</th>\n",
       "      <td>8</td>\n",
       "      <td>550,000TL</td>\n",
       "      <td>8775773</td>\n",
       "      <td>06 Ekim 2020</td>\n",
       "      <td>05 Kasım 2020</td>\n",
       "      <td>Konut</td>\n",
       "      <td>Satılık</td>\n",
       "      <td>Belirtilmemiş</td>\n",
       "      <td>135 m2</td>\n",
       "      <td>148 m2</td>\n",
       "      <td>...</td>\n",
       "      <td>2</td>\n",
       "      <td>Belirtilmemiş</td>\n",
       "      <td>Hayır</td>\n",
       "      <td>Boş</td>\n",
       "      <td>Mal Sahibi Oturuyor</td>\n",
       "      <td>Genel Fiyat</td>\n",
       "      <td>Belirtilmemiş</td>\n",
       "      <td>Krediye Uygun</td>\n",
       "      <td>Bilinmiyor</td>\n",
       "      <td>Var</td>\n",
       "    </tr>\n",
       "    <tr>\n",
       "      <th>9</th>\n",
       "      <td>9</td>\n",
       "      <td>160,000TL</td>\n",
       "      <td>8775763</td>\n",
       "      <td>06 Ekim 2020</td>\n",
       "      <td>10 Kasım 2020</td>\n",
       "      <td>Konut</td>\n",
       "      <td>Satılık</td>\n",
       "      <td>Belirtilmemiş</td>\n",
       "      <td>105 m2</td>\n",
       "      <td>120 m2</td>\n",
       "      <td>...</td>\n",
       "      <td>1</td>\n",
       "      <td>Belirtilmemiş</td>\n",
       "      <td>Hayır</td>\n",
       "      <td>Boş</td>\n",
       "      <td>Boş</td>\n",
       "      <td>Genel Fiyat</td>\n",
       "      <td>Belirtilmemiş</td>\n",
       "      <td>Krediye Uygun</td>\n",
       "      <td>Bilinmiyor</td>\n",
       "      <td>Yok</td>\n",
       "    </tr>\n",
       "  </tbody>\n",
       "</table>\n",
       "<p>10 rows × 28 columns</p>\n",
       "</div>"
      ],
      "text/plain": [
       "   Unnamed: 0        fiyat  ilan_no olusturma_tarihi guncelleme_tarihi    tur  \\\n",
       "0           0    380,000TL  8898190    07 Kasım 2020     07 Kasım 2020  Konut   \n",
       "1           1    315,000TL  8898116    07 Kasım 2020     07 Kasım 2020  Konut   \n",
       "2           2    190,000TL  8884932    04 Kasım 2020     04 Kasım 2020  Konut   \n",
       "3           3    555,000TL  8877290    02 Kasım 2020     06 Kasım 2020  Konut   \n",
       "4           4  3,000,000TL  8877281    02 Kasım 2020     06 Kasım 2020  Konut   \n",
       "5           5    290,000TL  8871532     31 Ekim 2020      31 Ekim 2020  Konut   \n",
       "6           6    250,000TL  8845619     23 Ekim 2020     09 Kasım 2020  Konut   \n",
       "7           7    175,000TL  8782715     07 Ekim 2020      09 Ekim 2020  Konut   \n",
       "8           8    550,000TL  8775773     06 Ekim 2020     05 Kasım 2020  Konut   \n",
       "9           9    160,000TL  8775763     06 Ekim 2020     10 Kasım 2020  Konut   \n",
       "\n",
       "  kategori       yapi_tip  net_m2 brut_m2  ... banyo_sayi        WC_sayi  \\\n",
       "0  Satılık      Betonarme  140 m2  141 m2  ...          1              2   \n",
       "1  Satılık      Betonarme  100 m2  101 m2  ...          1              2   \n",
       "2  Satılık  Belirtilmemiş  110 m2  130 m2  ...          1              1   \n",
       "3  Satılık      Betonarme  175 m2  180 m2  ...          3  Belirtilmemiş   \n",
       "4  Satılık      Betonarme  270 m2  469 m2  ...          3  Belirtilmemiş   \n",
       "5  Satılık  Belirtilmemiş   95 m2  110 m2  ...          1              1   \n",
       "6  Satılık      Betonarme   95 m2  120 m2  ...          1              1   \n",
       "7  Satılık      Betonarme   68 m2   75 m2  ...          1              1   \n",
       "8  Satılık  Belirtilmemiş  135 m2  148 m2  ...          2  Belirtilmemiş   \n",
       "9  Satılık  Belirtilmemiş  105 m2  120 m2  ...          1  Belirtilmemiş   \n",
       "\n",
       "  site_ici_mi     esya_durum       kullanım_durum  fiyat_durum     yapi_durum  \\\n",
       "0       Hayır            Boş                  Boş  Genel Fiyat          Sıfır   \n",
       "1       Hayır            Boş                  Boş  Genel Fiyat          Sıfır   \n",
       "2       Hayır            Boş                  Boş  Genel Fiyat          Sıfır   \n",
       "3       Hayır  Belirtilmemiş  Mal Sahibi Oturuyor  Genel Fiyat      İkinci El   \n",
       "4       Hayır            Boş  Mal Sahibi Oturuyor  Genel Fiyat      İkinci El   \n",
       "5       Hayır            Boş                  Boş  Genel Fiyat          Sıfır   \n",
       "6       Hayır  Belirtilmemiş      Kiracı Oturuyor  Genel Fiyat      İkinci El   \n",
       "7       Hayır            Boş                  Boş  Genel Fiyat      İkinci El   \n",
       "8       Hayır            Boş  Mal Sahibi Oturuyor  Genel Fiyat  Belirtilmemiş   \n",
       "9       Hayır            Boş                  Boş  Genel Fiyat  Belirtilmemiş   \n",
       "\n",
       "  krediye_uygunluk yatirima_uygunluk takas  \n",
       "0    Krediye Uygun    Yatırıma Uygun   Yok  \n",
       "1    Krediye Uygun    Yatırıma Uygun   Yok  \n",
       "2    Krediye Uygun    Yatırıma Uygun   Var  \n",
       "3    Krediye Uygun        Bilinmiyor   Yok  \n",
       "4    Krediye Uygun        Bilinmiyor   Yok  \n",
       "5    Krediye Uygun    Yatırıma Uygun   Yok  \n",
       "6    Krediye Uygun    Yatırıma Uygun   Yok  \n",
       "7    Krediye Uygun    Yatırıma Uygun   Yok  \n",
       "8    Krediye Uygun        Bilinmiyor   Var  \n",
       "9    Krediye Uygun        Bilinmiyor   Yok  \n",
       "\n",
       "[10 rows x 28 columns]"
      ]
     },
     "execution_count": 3,
     "metadata": {},
     "output_type": "execute_result"
    }
   ],
   "source": [
    "house_data.head(10)"
   ]
  },
  {
   "cell_type": "markdown",
   "metadata": {},
   "source": [
    "### Veri Setinde Bağımlı ve Bağımsız Değişkenler Hakkında Bilgiler"
   ]
  },
  {
   "cell_type": "code",
   "execution_count": 4,
   "metadata": {},
   "outputs": [
    {
     "name": "stdout",
     "output_type": "stream",
     "text": [
      "<class 'pandas.core.frame.DataFrame'>\n",
      "RangeIndex: 510 entries, 0 to 509\n",
      "Data columns (total 28 columns):\n",
      " #   Column             Non-Null Count  Dtype \n",
      "---  ------             --------------  ----- \n",
      " 0   Unnamed: 0         510 non-null    int64 \n",
      " 1   fiyat              510 non-null    object\n",
      " 2   ilan_no            510 non-null    int64 \n",
      " 3   olusturma_tarihi   510 non-null    object\n",
      " 4   guncelleme_tarihi  510 non-null    object\n",
      " 5   tur                510 non-null    object\n",
      " 6   kategori           510 non-null    object\n",
      " 7   yapi_tip           510 non-null    object\n",
      " 8   net_m2             510 non-null    object\n",
      " 9   brut_m2            510 non-null    object\n",
      " 10  salon_m2           510 non-null    object\n",
      " 11  oda_sayi           510 non-null    object\n",
      " 12  bina_yasi          510 non-null    object\n",
      " 13  bulundugu_kat      510 non-null    object\n",
      " 14  bina_kat_sayisi    510 non-null    int64 \n",
      " 15  ısıtma_tip         510 non-null    object\n",
      " 16  aidat              510 non-null    object\n",
      " 17  kira-getiri        510 non-null    object\n",
      " 18  banyo_sayi         510 non-null    object\n",
      " 19  WC_sayi            510 non-null    object\n",
      " 20  site_ici_mi        510 non-null    object\n",
      " 21  esya_durum         510 non-null    object\n",
      " 22  kullanım_durum     510 non-null    object\n",
      " 23  fiyat_durum        510 non-null    object\n",
      " 24  yapi_durum         510 non-null    object\n",
      " 25  krediye_uygunluk   510 non-null    object\n",
      " 26  yatirima_uygunluk  510 non-null    object\n",
      " 27  takas              510 non-null    object\n",
      "dtypes: int64(3), object(25)\n",
      "memory usage: 111.7+ KB\n"
     ]
    }
   ],
   "source": [
    "house_data.info()"
   ]
  },
  {
   "cell_type": "markdown",
   "metadata": {},
   "source": [
    "### Veri Setinde Bulunan Gereksiz ve Kullanılamayan Özniteliklerin Belirlenmesi"
   ]
  },
  {
   "cell_type": "code",
   "execution_count": 5,
   "metadata": {},
   "outputs": [],
   "source": [
    "gereksiz_kolonlar = ['Unnamed: 0','ilan_no','olusturma_tarihi','guncelleme_tarihi','tur','kategori','yapi_tip','salon_m2',\n",
    "                    'aidat','kira-getiri','WC_sayi','esya_durum','kullanım_durum','fiyat_durum','yapi_durum','krediye_uygunluk'\n",
    "                    ,'yatirima_uygunluk','takas']\n",
    "\n",
    "# NOT : ilan_no, olusturma_tarihi, guncelleme_tarihi gibi veriler modelin eğitimi için kullanılabilecek veriler değildir. Bu yüzden veri setinden kaldırmamız gerekir.\n",
    "# NOT2 : salon_m2, aidat gibi 'BELİRSİZ'liklerin normal verilere oranı çok fazla ise bu özniteliklerde kullanılamaz.\n",
    "#Bunun nedeni NaN değerlerin doldurulamayacak kadar falza olması "
   ]
  },
  {
   "cell_type": "markdown",
   "metadata": {},
   "source": [
    "### Kullanılamayacak Özniteliklerin Veri Setinden Kaldırılması"
   ]
  },
  {
   "cell_type": "code",
   "execution_count": 6,
   "metadata": {},
   "outputs": [],
   "source": [
    "house_data.drop(gereksiz_kolonlar,axis=1,inplace=True)"
   ]
  },
  {
   "cell_type": "markdown",
   "metadata": {},
   "source": [
    "### Verilerin Modelin Kullacağı Hale Getirilmesi"
   ]
  },
  {
   "cell_type": "code",
   "execution_count": 7,
   "metadata": {},
   "outputs": [],
   "source": [
    "# net_m2 ve brut_m2 öznitelikleri object veri tipinde olduğu için ML algoritmamız bunu kullanamaz.\n",
    "#Bunun için ilk olarak ' TL' ifadesini kaldırıp, veriyi float veri tipine dönüştürmeliyiz.\n",
    "\n",
    "clear_m2 = lambda x:float(x.replace(' m2',''))\n",
    "house_data['net_m2'] = house_data['net_m2'].apply(clear_m2)\n",
    "house_data['brut_m2'] = house_data['brut_m2'].apply(clear_m2)"
   ]
  },
  {
   "cell_type": "code",
   "execution_count": 8,
   "metadata": {},
   "outputs": [
    {
     "data": {
      "text/html": [
       "<div>\n",
       "<style scoped>\n",
       "    .dataframe tbody tr th:only-of-type {\n",
       "        vertical-align: middle;\n",
       "    }\n",
       "\n",
       "    .dataframe tbody tr th {\n",
       "        vertical-align: top;\n",
       "    }\n",
       "\n",
       "    .dataframe thead th {\n",
       "        text-align: right;\n",
       "    }\n",
       "</style>\n",
       "<table border=\"1\" class=\"dataframe\">\n",
       "  <thead>\n",
       "    <tr style=\"text-align: right;\">\n",
       "      <th></th>\n",
       "      <th>fiyat</th>\n",
       "      <th>net_m2</th>\n",
       "      <th>brut_m2</th>\n",
       "      <th>oda_sayi</th>\n",
       "      <th>bina_yasi</th>\n",
       "      <th>bulundugu_kat</th>\n",
       "      <th>bina_kat_sayisi</th>\n",
       "      <th>ısıtma_tip</th>\n",
       "      <th>banyo_sayi</th>\n",
       "      <th>site_ici_mi</th>\n",
       "    </tr>\n",
       "  </thead>\n",
       "  <tbody>\n",
       "    <tr>\n",
       "      <th>0</th>\n",
       "      <td>380,000TL</td>\n",
       "      <td>140.0</td>\n",
       "      <td>141.0</td>\n",
       "      <td>3+1</td>\n",
       "      <td>0 (Yeni)</td>\n",
       "      <td>Bahçe Dublex</td>\n",
       "      <td>3</td>\n",
       "      <td>Kombi Doğalgaz</td>\n",
       "      <td>1</td>\n",
       "      <td>Hayır</td>\n",
       "    </tr>\n",
       "    <tr>\n",
       "      <th>1</th>\n",
       "      <td>315,000TL</td>\n",
       "      <td>100.0</td>\n",
       "      <td>101.0</td>\n",
       "      <td>2+1</td>\n",
       "      <td>0 (Yeni)</td>\n",
       "      <td>Çatı Dubleks</td>\n",
       "      <td>3</td>\n",
       "      <td>Kombi Doğalgaz</td>\n",
       "      <td>1</td>\n",
       "      <td>Hayır</td>\n",
       "    </tr>\n",
       "    <tr>\n",
       "      <th>2</th>\n",
       "      <td>190,000TL</td>\n",
       "      <td>110.0</td>\n",
       "      <td>130.0</td>\n",
       "      <td>2+1</td>\n",
       "      <td>3</td>\n",
       "      <td>Düz Giriş</td>\n",
       "      <td>4</td>\n",
       "      <td>Kombi Doğalgaz</td>\n",
       "      <td>1</td>\n",
       "      <td>Hayır</td>\n",
       "    </tr>\n",
       "    <tr>\n",
       "      <th>3</th>\n",
       "      <td>555,000TL</td>\n",
       "      <td>175.0</td>\n",
       "      <td>180.0</td>\n",
       "      <td>3+1</td>\n",
       "      <td>5-10</td>\n",
       "      <td>Bahçe Katı</td>\n",
       "      <td>2</td>\n",
       "      <td>Kombi Doğalgaz</td>\n",
       "      <td>3</td>\n",
       "      <td>Hayır</td>\n",
       "    </tr>\n",
       "    <tr>\n",
       "      <th>4</th>\n",
       "      <td>3,000,000TL</td>\n",
       "      <td>270.0</td>\n",
       "      <td>469.0</td>\n",
       "      <td>7+1</td>\n",
       "      <td>5-10</td>\n",
       "      <td>Villa Tipi</td>\n",
       "      <td>2</td>\n",
       "      <td>Kombi Doğalgaz</td>\n",
       "      <td>3</td>\n",
       "      <td>Hayır</td>\n",
       "    </tr>\n",
       "  </tbody>\n",
       "</table>\n",
       "</div>"
      ],
      "text/plain": [
       "         fiyat  net_m2  brut_m2 oda_sayi bina_yasi bulundugu_kat  \\\n",
       "0    380,000TL   140.0    141.0      3+1  0 (Yeni)  Bahçe Dublex   \n",
       "1    315,000TL   100.0    101.0      2+1  0 (Yeni)  Çatı Dubleks   \n",
       "2    190,000TL   110.0    130.0      2+1         3     Düz Giriş   \n",
       "3    555,000TL   175.0    180.0      3+1      5-10    Bahçe Katı   \n",
       "4  3,000,000TL   270.0    469.0      7+1      5-10    Villa Tipi   \n",
       "\n",
       "   bina_kat_sayisi      ısıtma_tip banyo_sayi site_ici_mi  \n",
       "0                3  Kombi Doğalgaz          1       Hayır  \n",
       "1                3  Kombi Doğalgaz          1       Hayır  \n",
       "2                4  Kombi Doğalgaz          1       Hayır  \n",
       "3                2  Kombi Doğalgaz          3       Hayır  \n",
       "4                2  Kombi Doğalgaz          3       Hayır  "
      ]
     },
     "execution_count": 8,
     "metadata": {},
     "output_type": "execute_result"
    }
   ],
   "source": [
    "house_data.head()"
   ]
  },
  {
   "cell_type": "code",
   "execution_count": 9,
   "metadata": {},
   "outputs": [
    {
     "data": {
      "text/plain": [
       "2+1       213\n",
       "3+1       189\n",
       "4+1        49\n",
       "1+1        15\n",
       "5+1        11\n",
       "4+2         8\n",
       "6+3         5\n",
       "3+2         4\n",
       "6+1         4\n",
       "1 Oda       3\n",
       "8+ Oda      3\n",
       "5+2         2\n",
       "7+1         2\n",
       "6+2         2\n",
       "Name: oda_sayi, dtype: int64"
      ]
     },
     "execution_count": 9,
     "metadata": {},
     "output_type": "execute_result"
    }
   ],
   "source": [
    "house_data['oda_sayi'].value_counts()\n",
    "\n",
    "# Burada görüleceği gibi '1 Oda' ve '8+ Oda' ifadelerinde verinin neyi ifade ettiği tam olarak belli değildir.\n",
    "# İlk olarak bu verileri veri setimizden kaldırmamız gerekecektir."
   ]
  },
  {
   "cell_type": "code",
   "execution_count": 10,
   "metadata": {},
   "outputs": [],
   "source": [
    "# Burada ilk olarak oda_sayi verisinin değeri '8+ Oda' ve '1 Oda' olanların indekslerini tespit ediyoruz.\n",
    "# Elde ettiğimiz indeksleri veri setinden atmak için drop metoduna veriyoruz.\n",
    "\n",
    "silinecek_satirlar = house_data[(house_data['oda_sayi']=='8+ Oda')|(house_data['oda_sayi']=='1 Oda')].index\n",
    "house_data.drop(silinecek_satirlar,axis=0,inplace=True)\n",
    "house_data = house_data.reset_index()"
   ]
  },
  {
   "cell_type": "code",
   "execution_count": 11,
   "metadata": {},
   "outputs": [],
   "source": [
    "# Verimiz hala kategorik olduğu için makine öğrenmesi modelimiz hala bunu kullanmaya uygun değildir.\n",
    "# One hot encoding yöntemide uygulanabilir fakat 12 adet eşsiz değer olduğu için sütun sayısı hayli artacaktır.\n",
    "# Bunun yerine bu değerlerimizi oda ve salon sayısı olarak ayırmamız daha verimli olacaktır.\n",
    "# Örneğin oda_sayi değeri 4+2 olan bir satın için şu şekilde ayırırız. oda_sayisi 4, salon_sayisi 2\n",
    "\n",
    "oda_sayisi = []\n",
    "salon_sayisi = []\n",
    "for veri in house_data['oda_sayi']:\n",
    "    o_sayi = int(veri.split('+')[0])\n",
    "    s_sayi = int(veri.split('+')[1])\n",
    "    oda_sayisi.append(o_sayi)\n",
    "    salon_sayisi.append(s_sayi)\n",
    "    \n",
    "# Yukarıda ki kısımda her satırdaki oda_sayi özniteliğinden oda sayısı ve salon sayısını elde ettik\n",
    "# Bu öznitelikleri eklemeden önce ilk olarak oda_sayi özniteliğini veri setinden kaldırmamız gerekir.\n",
    "\n",
    "house_data.drop(labels=['oda_sayi'],axis=1,inplace=True)\n",
    "\n",
    "#Şimdi oda ve salon sayı öznitelikerini veri setine ekleyebiliriz.\n",
    "house_data['oda_sayisi'] = oda_sayisi\n",
    "house_data['salon_sayisi'] = salon_sayisi"
   ]
  },
  {
   "cell_type": "code",
   "execution_count": 12,
   "metadata": {},
   "outputs": [
    {
     "data": {
      "text/html": [
       "<div>\n",
       "<style scoped>\n",
       "    .dataframe tbody tr th:only-of-type {\n",
       "        vertical-align: middle;\n",
       "    }\n",
       "\n",
       "    .dataframe tbody tr th {\n",
       "        vertical-align: top;\n",
       "    }\n",
       "\n",
       "    .dataframe thead th {\n",
       "        text-align: right;\n",
       "    }\n",
       "</style>\n",
       "<table border=\"1\" class=\"dataframe\">\n",
       "  <thead>\n",
       "    <tr style=\"text-align: right;\">\n",
       "      <th></th>\n",
       "      <th>index</th>\n",
       "      <th>fiyat</th>\n",
       "      <th>net_m2</th>\n",
       "      <th>brut_m2</th>\n",
       "      <th>bina_yasi</th>\n",
       "      <th>bulundugu_kat</th>\n",
       "      <th>bina_kat_sayisi</th>\n",
       "      <th>ısıtma_tip</th>\n",
       "      <th>banyo_sayi</th>\n",
       "      <th>site_ici_mi</th>\n",
       "      <th>oda_sayisi</th>\n",
       "      <th>salon_sayisi</th>\n",
       "    </tr>\n",
       "  </thead>\n",
       "  <tbody>\n",
       "    <tr>\n",
       "      <th>0</th>\n",
       "      <td>0</td>\n",
       "      <td>380,000TL</td>\n",
       "      <td>140.0</td>\n",
       "      <td>141.0</td>\n",
       "      <td>0 (Yeni)</td>\n",
       "      <td>Bahçe Dublex</td>\n",
       "      <td>3</td>\n",
       "      <td>Kombi Doğalgaz</td>\n",
       "      <td>1</td>\n",
       "      <td>Hayır</td>\n",
       "      <td>3</td>\n",
       "      <td>1</td>\n",
       "    </tr>\n",
       "    <tr>\n",
       "      <th>1</th>\n",
       "      <td>1</td>\n",
       "      <td>315,000TL</td>\n",
       "      <td>100.0</td>\n",
       "      <td>101.0</td>\n",
       "      <td>0 (Yeni)</td>\n",
       "      <td>Çatı Dubleks</td>\n",
       "      <td>3</td>\n",
       "      <td>Kombi Doğalgaz</td>\n",
       "      <td>1</td>\n",
       "      <td>Hayır</td>\n",
       "      <td>2</td>\n",
       "      <td>1</td>\n",
       "    </tr>\n",
       "    <tr>\n",
       "      <th>2</th>\n",
       "      <td>2</td>\n",
       "      <td>190,000TL</td>\n",
       "      <td>110.0</td>\n",
       "      <td>130.0</td>\n",
       "      <td>3</td>\n",
       "      <td>Düz Giriş</td>\n",
       "      <td>4</td>\n",
       "      <td>Kombi Doğalgaz</td>\n",
       "      <td>1</td>\n",
       "      <td>Hayır</td>\n",
       "      <td>2</td>\n",
       "      <td>1</td>\n",
       "    </tr>\n",
       "    <tr>\n",
       "      <th>3</th>\n",
       "      <td>3</td>\n",
       "      <td>555,000TL</td>\n",
       "      <td>175.0</td>\n",
       "      <td>180.0</td>\n",
       "      <td>5-10</td>\n",
       "      <td>Bahçe Katı</td>\n",
       "      <td>2</td>\n",
       "      <td>Kombi Doğalgaz</td>\n",
       "      <td>3</td>\n",
       "      <td>Hayır</td>\n",
       "      <td>3</td>\n",
       "      <td>1</td>\n",
       "    </tr>\n",
       "    <tr>\n",
       "      <th>4</th>\n",
       "      <td>4</td>\n",
       "      <td>3,000,000TL</td>\n",
       "      <td>270.0</td>\n",
       "      <td>469.0</td>\n",
       "      <td>5-10</td>\n",
       "      <td>Villa Tipi</td>\n",
       "      <td>2</td>\n",
       "      <td>Kombi Doğalgaz</td>\n",
       "      <td>3</td>\n",
       "      <td>Hayır</td>\n",
       "      <td>7</td>\n",
       "      <td>1</td>\n",
       "    </tr>\n",
       "  </tbody>\n",
       "</table>\n",
       "</div>"
      ],
      "text/plain": [
       "   index        fiyat  net_m2  brut_m2 bina_yasi bulundugu_kat  \\\n",
       "0      0    380,000TL   140.0    141.0  0 (Yeni)  Bahçe Dublex   \n",
       "1      1    315,000TL   100.0    101.0  0 (Yeni)  Çatı Dubleks   \n",
       "2      2    190,000TL   110.0    130.0         3     Düz Giriş   \n",
       "3      3    555,000TL   175.0    180.0      5-10    Bahçe Katı   \n",
       "4      4  3,000,000TL   270.0    469.0      5-10    Villa Tipi   \n",
       "\n",
       "   bina_kat_sayisi      ısıtma_tip banyo_sayi site_ici_mi  oda_sayisi  \\\n",
       "0                3  Kombi Doğalgaz          1       Hayır           3   \n",
       "1                3  Kombi Doğalgaz          1       Hayır           2   \n",
       "2                4  Kombi Doğalgaz          1       Hayır           2   \n",
       "3                2  Kombi Doğalgaz          3       Hayır           3   \n",
       "4                2  Kombi Doğalgaz          3       Hayır           7   \n",
       "\n",
       "   salon_sayisi  \n",
       "0             1  \n",
       "1             1  \n",
       "2             1  \n",
       "3             1  \n",
       "4             1  "
      ]
     },
     "execution_count": 12,
     "metadata": {},
     "output_type": "execute_result"
    }
   ],
   "source": [
    "# Veri setinin yeni halini inceleyenlim\n",
    "\n",
    "house_data.head()"
   ]
  },
  {
   "cell_type": "code",
   "execution_count": 13,
   "metadata": {},
   "outputs": [],
   "source": [
    "# Gereksiz verileri temizlediğimiz için oluşan index kolonunu kaldıralım\n",
    "\n",
    "house_data.drop('index',axis=1,inplace=True)"
   ]
  },
  {
   "cell_type": "code",
   "execution_count": 14,
   "metadata": {},
   "outputs": [],
   "source": [
    "# Fiyat özniteliğimiz tahmin edeceğimiz bir öznitelik olacağı için bununda ML algoritmamızın kullanacağı formatta olması lazım.\n",
    "# Bunun için ilk olarak ' TL' ekinden kurtulmamız ve ifadeyi float değere dönüştürmemiz gerekir.\n",
    "# Ayrıca bazı bozulmuş değerleride tespit edip düzeltmemiz gerekecek\n",
    "\n",
    "house_data['fiyat'] = house_data['fiyat'].apply(lambda x:x.replace('TLarrow_downward',''))\n",
    "house_data['fiyat'] = house_data['fiyat'].apply(lambda x:x.replace('TL',''))\n",
    "house_data['fiyat'] = house_data['fiyat'].apply(lambda x:float(x.replace(',','')))"
   ]
  },
  {
   "cell_type": "code",
   "execution_count": 16,
   "metadata": {},
   "outputs": [
    {
     "name": "stdout",
     "output_type": "stream",
     "text": [
      "<class 'pandas.core.frame.DataFrame'>\n",
      "RangeIndex: 504 entries, 0 to 503\n",
      "Data columns (total 11 columns):\n",
      " #   Column           Non-Null Count  Dtype  \n",
      "---  ------           --------------  -----  \n",
      " 0   fiyat            504 non-null    float64\n",
      " 1   net_m2           504 non-null    float64\n",
      " 2   brut_m2          504 non-null    float64\n",
      " 3   bina_yasi        504 non-null    object \n",
      " 4   bulundugu_kat    504 non-null    object \n",
      " 5   bina_kat_sayisi  504 non-null    int64  \n",
      " 6   ısıtma_tip       504 non-null    object \n",
      " 7   banyo_sayi       504 non-null    object \n",
      " 8   site_ici_mi      504 non-null    object \n",
      " 9   oda_sayisi       504 non-null    int64  \n",
      " 10  salon_sayisi     504 non-null    int64  \n",
      "dtypes: float64(3), int64(3), object(5)\n",
      "memory usage: 43.4+ KB\n"
     ]
    }
   ],
   "source": [
    "# Tekrardan özniteliklerimizin veri tiplerini kontrol edelim\n",
    "\n",
    "house_data.info()"
   ]
  },
  {
   "cell_type": "code",
   "execution_count": 17,
   "metadata": {},
   "outputs": [],
   "source": [
    "# Banyo sayısınında object veri tipinden int veri tipine dönüştürülmesi gerekir.\n",
    "\n",
    "house_data['banyo_sayi'] = house_data['banyo_sayi'].astype(int)"
   ]
  },
  {
   "cell_type": "code",
   "execution_count": 18,
   "metadata": {},
   "outputs": [],
   "source": [
    "house_data['bina_yasi'] = house_data['bina_yasi'].apply(lambda x:x.replace(' (Yeni)',''))"
   ]
  },
  {
   "cell_type": "markdown",
   "metadata": {},
   "source": [
    "### Veri Setinin Exel Formatında Kayıt Edilmesi"
   ]
  },
  {
   "cell_type": "code",
   "execution_count": null,
   "metadata": {},
   "outputs": [],
   "source": [
    "data_to_excell = pd.ExcelWriter('proc_house.xlsx',engine='xlsxwriter')\n",
    "house_data.to_excel(data_to_excell, sheet_name='house')\n",
    "data_to_excell.save()"
   ]
  },
  {
   "cell_type": "markdown",
   "metadata": {},
   "source": [
    "### Verilerin ayrılması"
   ]
  },
  {
   "cell_type": "code",
   "execution_count": 19,
   "metadata": {},
   "outputs": [],
   "source": [
    "X = house_data.iloc[:,1:]\n",
    "y = house_data.iloc[:,0]"
   ]
  },
  {
   "cell_type": "code",
   "execution_count": 20,
   "metadata": {},
   "outputs": [],
   "source": [
    "# Geliştireceğimiz ML modelinin daha iyi performans vermesi için net_m2 ve brut_m2 verilerinin normalizasyon işlemine uğraması gerekmektedir.\n",
    "\n",
    "from sklearn.preprocessing import StandardScaler\n",
    "X_encoded = pd.get_dummies(X,prefix_sep='_')\n",
    "X_scaled = StandardScaler().fit_transform(X_encoded)"
   ]
  },
  {
   "cell_type": "markdown",
   "metadata": {},
   "source": [
    "### Test ve Eğitim Verisinin Ayrılması"
   ]
  },
  {
   "cell_type": "code",
   "execution_count": 21,
   "metadata": {},
   "outputs": [],
   "source": [
    "from sklearn.model_selection import train_test_split\n",
    "X_train, X_test, y_train, y_test = train_test_split(X_scaled,y,test_size=0.3,random_state=0)"
   ]
  },
  {
   "cell_type": "code",
   "execution_count": 22,
   "metadata": {},
   "outputs": [],
   "source": [
    "# !pip install xgboost"
   ]
  },
  {
   "cell_type": "code",
   "execution_count": 23,
   "metadata": {},
   "outputs": [],
   "source": [
    "# Model olarak xgboostun XGBRegressor sınıfı kullanılacak.\n",
    "\n",
    "from xgboost import XGBRegressor\n",
    "from sklearn.model_selection import cross_val_score\n",
    "from sklearn.metrics import mean_squared_error"
   ]
  },
  {
   "cell_type": "code",
   "execution_count": 24,
   "metadata": {},
   "outputs": [],
   "source": [
    "xgbr = XGBRegressor(verbosity=0)"
   ]
  },
  {
   "cell_type": "code",
   "execution_count": 25,
   "metadata": {},
   "outputs": [
    {
     "name": "stdout",
     "output_type": "stream",
     "text": [
      "Training score : 0.9969841863898329\n"
     ]
    }
   ],
   "source": [
    "# Burada modelimizi fit etmemiz gerekiyor. Bunun için sınıfın fit metodu kullanılır.\n",
    "# Ayrıca eğitimin skorunuda görelim.\n",
    "\n",
    "xgbr.fit(X_train,y_train)\n",
    "score = xgbr.score(X_train,y_train)\n",
    "print(\"Training score : \"+str(score))"
   ]
  },
  {
   "cell_type": "code",
   "execution_count": 26,
   "metadata": {},
   "outputs": [
    {
     "name": "stdout",
     "output_type": "stream",
     "text": [
      "CV Mean Score : 0.06070146416216016\n"
     ]
    }
   ],
   "source": [
    "cv_score = cross_val_score(xgbr,X_train,y_train,cv=10)\n",
    "print(\"CV Mean Score : \" + str(cv_score.mean()))"
   ]
  },
  {
   "cell_type": "markdown",
   "metadata": {},
   "source": [
    "### Modelin Performans Değerlendirmesi"
   ]
  },
  {
   "cell_type": "code",
   "execution_count": 27,
   "metadata": {},
   "outputs": [
    {
     "name": "stdout",
     "output_type": "stream",
     "text": [
      "MSE : 161583586453.88678\n",
      "RMSE : 80791793226.94339\n"
     ]
    }
   ],
   "source": [
    "# Burada da modelimizin tahminini yapalım ve hata oranını ölçelim.\n",
    "# Görüleceği gibi hata oranı epey yüksek. Bunun nedeni outlier değerlerin fazla olması ve temizlememiş olmamız.\n",
    "# Eğer outlier değerler temizlenip model tekrardan çalıştırılacak olunursa skorumuz daha iyi olacaktır.\n",
    "\n",
    "predicts = xgbr.predict(X_test)\n",
    "mse = mean_squared_error(y_test,predicts)\n",
    "print(\"MSE : \" + str(mse))\n",
    "print(\"RMSE : \" + str((mse)*1/2.0))"
   ]
  },
  {
   "cell_type": "markdown",
   "metadata": {},
   "source": [
    "### Gerçek ve Tahmin Değerlerinin Görselleştirilmesi"
   ]
  },
  {
   "cell_type": "code",
   "execution_count": 28,
   "metadata": {},
   "outputs": [
    {
     "data": {
      "image/png": "[encoded data removed]",
      "text/plain": [
       "<Figure size 432x288 with 1 Axes>"
      ]
     },
     "metadata": {
      "needs_background": "light"
     },
     "output_type": "display_data"
    }
   ],
   "source": [
    "x_ax = range(len(y_test))\n",
    "plot.plot(x_ax,y_test,label='original')\n",
    "plot.plot(x_ax,predicts,label='predict')\n",
    "plot.title(\"Ev verilerinin tahmini\")\n",
    "plot.legend()\n",
    "plot.show()\n",
    "\n",
    "# Burada görüleceği gibi gerçek veri ve tahmin değerleri genel olarak uyumludur. Fakar bazı gerçek değerler çok uçuktur. Bunun nedeni de outlier değerlerdir.\n",
    "# Bir sonraki adımda outlier değerlerin tespiti ve veri setinden temizlenmesi olacaktır."
   ]
  }
 ],
 "metadata": {
  "kernelspec": {
   "display_name": "Python 3",
   "language": "python",
   "name": "python3"
  },
  "language_info": {
   "codemirror_mode": {
    "name": "ipython",
    "version": 3
   },
   "file_extension": ".py",
   "mimetype": "text/x-python",
   "name": "python",
   "nbconvert_exporter": "python",
   "pygments_lexer": "ipython3",
   "version": "3.8.3"
  }
 },
 "nbformat": 4,
 "nbformat_minor": 4
}
